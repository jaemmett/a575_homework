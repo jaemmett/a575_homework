{
 "cells": [
  {
   "cell_type": "markdown",
   "metadata": {},
   "source": [
    "Exercise 10.1: Write a function called nested_sum that takes a nested list of integers and add up the elements from all of the nested lists. "
   ]
  },
  {
   "cell_type": "code",
   "execution_count": 22,
   "metadata": {
    "collapsed": false
   },
   "outputs": [
    {
     "name": "stdout",
     "output_type": "stream",
     "text": [
      "52\n"
     ]
    }
   ],
   "source": [
    "def nested_sum(int_lists):\n",
    "    total_total=0\n",
    "    for i in range(len(int_lists)):\n",
    "        nested_total=0\n",
    "        for j in range(len(int_lists[i])):\n",
    "            nested_total += (int_lists[i])[j]\n",
    "        total_total += nested_total\n",
    "    print total_total\n",
    "    \n",
    "nested_sum([[1,2],[4,5,6],[7,8,9,10]])"
   ]
  },
  {
   "cell_type": "markdown",
   "metadata": {},
   "source": [
    "Exercise 10.2: Use capitalize_all to write a function named capitalize_nested that takes a nested list of strings and returns a new nested list with all strings capitalized."
   ]
  },
  {
   "cell_type": "code",
   "execution_count": 35,
   "metadata": {
    "collapsed": false
   },
   "outputs": [
    {
     "name": "stdout",
     "output_type": "stream",
     "text": [
      "[['Test1', 'Test2', 'Test3'], ['Test4', 'Test5'], ['Test6']]\n"
     ]
    }
   ],
   "source": [
    "def capitalize_all(t):\n",
    "    res=[]\n",
    "    for s in t:\n",
    "        res.append(s.capitalize())\n",
    "    return res\n",
    "\n",
    "def capitalize_nested(str_lists):\n",
    "    res2=[]\n",
    "    for i in range(len(str_lists)):\n",
    "        res2.append(capitalize_all(str_lists[i]))\n",
    "    print res2\n",
    "\n",
    "capitalize_nested([['test1','test2','test3'],['test4','test5'],['test6']])"
   ]
  },
  {
   "cell_type": "markdown",
   "metadata": {},
   "source": [
    "Exercise 10.3: Write a function that takes a list of numbers and returns the cumulative sum; that is, a new list where the ith element is the sum of the first i+1 elements from the original list. For example, the cumulative sum of [1,2,3] is [1,3,6]."
   ]
  },
  {
   "cell_type": "code",
   "execution_count": 40,
   "metadata": {
    "collapsed": false
   },
   "outputs": [
    {
     "name": "stdout",
     "output_type": "stream",
     "text": [
      "[1, 3, 6, 11, 18]\n"
     ]
    }
   ],
   "source": [
    "def cumulative_sum(num_list):\n",
    "    res=[]\n",
    "    cumulative_list=[]\n",
    "    for i in range(len(num_list)):\n",
    "        res.append(num_list[i])\n",
    "        cumulative_list.append(sum(res))\n",
    "    print cumulative_list\n",
    "        \n",
    "cumulative_sum([1,2,3,5,7])"
   ]
  },
  {
   "cell_type": "markdown",
   "metadata": {},
   "source": [
    "Exercise 10.4: Write a function called middle that takes a list and returns a new list that contains all but the first and last elements. So middle([1,2,3,4]) should return [2,3]."
   ]
  },
  {
   "cell_type": "code",
   "execution_count": 47,
   "metadata": {
    "collapsed": false
   },
   "outputs": [
    {
     "name": "stdout",
     "output_type": "stream",
     "text": [
      "[1, [2, 3, 4], 'test2']\n"
     ]
    }
   ],
   "source": [
    "def middle(lists):\n",
    "    lists=lists[1:len(lists)-1]\n",
    "    print lists\n",
    "    \n",
    "middle(['test1',1,[2,3,4],'test2',[5,6]])"
   ]
  },
  {
   "cell_type": "markdown",
   "metadata": {},
   "source": [
    "Exercise 10.5: Write a function called chop that takes a list, modifies it by removing the first and last elements, and return None. "
   ]
  },
  {
   "cell_type": "code",
   "execution_count": 48,
   "metadata": {
    "collapsed": false
   },
   "outputs": [
    {
     "name": "stdout",
     "output_type": "stream",
     "text": [
      "[1, [2, 3, 4], 'test2']\n"
     ]
    }
   ],
   "source": [
    "def chop(lists):\n",
    "    lists.remove(lists[0])\n",
    "    lists.remove(lists[len(lists)-1])\n",
    "    print lists\n",
    "    \n",
    "chop(['test1',1,[2,3,4],'test2',[5,6]])"
   ]
  },
  {
   "cell_type": "code",
   "execution_count": null,
   "metadata": {
    "collapsed": true
   },
   "outputs": [],
   "source": []
  }
 ],
 "metadata": {
  "kernelspec": {
   "display_name": "Python 2",
   "language": "python",
   "name": "python2"
  },
  "language_info": {
   "codemirror_mode": {
    "name": "ipython",
    "version": 2
   },
   "file_extension": ".py",
   "mimetype": "text/x-python",
   "name": "python",
   "nbconvert_exporter": "python",
   "pygments_lexer": "ipython2",
   "version": "2.7.10"
  }
 },
 "nbformat": 4,
 "nbformat_minor": 0
}
