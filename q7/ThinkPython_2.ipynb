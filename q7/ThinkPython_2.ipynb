{
 "cells": [
  {
   "cell_type": "markdown",
   "metadata": {},
   "source": [
    "Exercise 2  \n",
    "\n",
    "Enter and execute the following assignment statements:\n",
    "\n",
    "width = 17\n",
    "height = 12.0\n",
    "delimiter = '.'\n",
    "\n"
   ]
  },
  {
   "cell_type": "code",
   "execution_count": 2,
   "metadata": {
    "collapsed": false
   },
   "outputs": [],
   "source": [
    "width=17 \n",
    "height=12.0 \n",
    "delimiter='.'"
   ]
  },
  {
   "cell_type": "markdown",
   "metadata": {},
   "source": [
    "For each of the following expressions, write the value of the expression and the type (of the value of the expression) in the markdown cell. Then use the Python interpreter in the code cell to check your answer."
   ]
  },
  {
   "cell_type": "markdown",
   "metadata": {},
   "source": [
    "width/2"
   ]
  },
  {
   "cell_type": "markdown",
   "metadata": {},
   "source": [
    "integer, 8"
   ]
  },
  {
   "cell_type": "code",
   "execution_count": 5,
   "metadata": {
    "collapsed": false
   },
   "outputs": [
    {
     "name": "stdout",
     "output_type": "stream",
     "text": [
      "8\n"
     ]
    },
    {
     "data": {
      "text/plain": [
       "int"
      ]
     },
     "execution_count": 5,
     "metadata": {},
     "output_type": "execute_result"
    }
   ],
   "source": [
    "print width/2\n",
    "type(width/2)"
   ]
  },
  {
   "cell_type": "markdown",
   "metadata": {},
   "source": [
    "width/2.0|"
   ]
  },
  {
   "cell_type": "markdown",
   "metadata": {},
   "source": [
    "float, 8.5"
   ]
  },
  {
   "cell_type": "code",
   "execution_count": 6,
   "metadata": {
    "collapsed": false
   },
   "outputs": [
    {
     "name": "stdout",
     "output_type": "stream",
     "text": [
      "8.5\n"
     ]
    },
    {
     "data": {
      "text/plain": [
       "float"
      ]
     },
     "execution_count": 6,
     "metadata": {},
     "output_type": "execute_result"
    }
   ],
   "source": [
    "print width/2.0\n",
    "type(width/2.0)"
   ]
  },
  {
   "cell_type": "markdown",
   "metadata": {},
   "source": [
    "height/3"
   ]
  },
  {
   "cell_type": "markdown",
   "metadata": {},
   "source": [
    "float, 4.0"
   ]
  },
  {
   "cell_type": "code",
   "execution_count": 7,
   "metadata": {
    "collapsed": false
   },
   "outputs": [
    {
     "name": "stdout",
     "output_type": "stream",
     "text": [
      "4.0\n"
     ]
    },
    {
     "data": {
      "text/plain": [
       "float"
      ]
     },
     "execution_count": 7,
     "metadata": {},
     "output_type": "execute_result"
    }
   ],
   "source": [
    "print height/3\n",
    "type(height/3)"
   ]
  },
  {
   "cell_type": "markdown",
   "metadata": {},
   "source": [
    "1 + 2 * 5"
   ]
  },
  {
   "cell_type": "markdown",
   "metadata": {},
   "source": [
    "integer, 11"
   ]
  },
  {
   "cell_type": "code",
   "execution_count": null,
   "metadata": {
    "collapsed": true
   },
   "outputs": [],
   "source": [
    "print 1+2*5"
   ]
  },
  {
   "cell_type": "markdown",
   "metadata": {},
   "source": [
    "delimiter * 5"
   ]
  },
  {
   "cell_type": "markdown",
   "metadata": {},
   "source": [
    "string, '.....'"
   ]
  },
  {
   "cell_type": "code",
   "execution_count": 8,
   "metadata": {
    "collapsed": false
   },
   "outputs": [
    {
     "name": "stdout",
     "output_type": "stream",
     "text": [
      ".....\n"
     ]
    },
    {
     "data": {
      "text/plain": [
       "str"
      ]
     },
     "execution_count": 8,
     "metadata": {},
     "output_type": "execute_result"
    }
   ],
   "source": [
    "print delimiter*5\n",
    "type(delimiter*5)"
   ]
  },
  {
   "cell_type": "markdown",
   "metadata": {},
   "source": [
    "Exercise 3  \n",
    "\n",
    "Practice using the Python interpreter as a calculator: \n",
    "\n",
    "The volume of a sphere with radius r is $$4/3 π r^3$$\n",
    "What is the volume of a sphere with radius 5? Hint: 392.7 is wrong!\n",
    " "
   ]
  },
  {
   "cell_type": "code",
   "execution_count": 12,
   "metadata": {
    "collapsed": false
   },
   "outputs": [
    {
     "name": "stdout",
     "output_type": "stream",
     "text": [
      "392.699081699\n"
     ]
    }
   ],
   "source": [
    "import math\n",
    "print (4/3)*math.pi*(5)**3"
   ]
  },
  {
   "cell_type": "markdown",
   "metadata": {},
   "source": [
    "   Suppose the cover price of a book is \\$24.95, but bookstores get a 40% discount. Shipping costs \\$3 for the first copy and 75 cents for each additional copy. What is the total wholesale cost for 60 copies?\n",
    "\n"
   ]
  },
  {
   "cell_type": "code",
   "execution_count": 18,
   "metadata": {
    "collapsed": false
   },
   "outputs": [
    {
     "name": "stdout",
     "output_type": "stream",
     "text": [
      "TOTAL WHOLESALE COST $ 646.05\n"
     ]
    }
   ],
   "source": [
    "cover_price=24.95\n",
    "discount=0.4\n",
    "n_copies=60.0\n",
    "shipping_cost=3.0+0.75*(n_copies-1.0)\n",
    "\n",
    "unit_price=cover_price*discount\n",
    "total_cost=n_copies*unit_price+shipping_cost\n",
    "\n",
    "print 'TOTAL WHOLESALE COST $', total_cost\n"
   ]
  },
  {
   "cell_type": "markdown",
   "metadata": {},
   "source": [
    "If I leave my house at 6:52 am and run 1 mile at an easy pace (8:15 per mile), then 3 miles at tempo (7:12 per mile) and 1 mile at easy pace again, what time do I get home for breakfast? \n"
   ]
  },
  {
   "cell_type": "code",
   "execution_count": 44,
   "metadata": {
    "collapsed": false
   },
   "outputs": [
    {
     "name": "stdout",
     "output_type": "stream",
     "text": [
      "RETURN TIME: 7 : 30 : 6\n"
     ]
    }
   ],
   "source": [
    "hour_initial=6.0\n",
    "minute_initial=52.0\n",
    "second_initial=0.0\n",
    "\n",
    "distance_1=1.0\n",
    "distance_2=3.0\n",
    "distance_3=1.0\n",
    "\n",
    "rate_1_min_per_mile=8.0\n",
    "rate_1_sec_per_mile=15.0\n",
    "rate_1_total_sec_per_mile=rate_1_min_per_mile*60.0+rate_1_sec_per_mile\n",
    "\n",
    "rate_2_min_per_mile=7.0\n",
    "rate_2_sec_per_mile=12.0\n",
    "rate_2_total_sec_per_mile=rate_2_min_per_mile*60.0+rate_2_sec_per_mile\n",
    "\n",
    "time_1_sec=distance_1*rate_1_total_sec_per_mile\n",
    "time_2_sec=distance_2*rate_2_total_sec_per_mile\n",
    "time_3_sec=distance_3*rate_1_total_sec_per_mile\n",
    "\n",
    "total_time_sec=time_1_sec+time_2_sec+time_3_sec\n",
    "\n",
    "time_min=total_time_sec/60.0\n",
    "\n",
    "if time_min > (60.0-minute_initial):\n",
    "    hour_final=hour_initial+1\n",
    "else: \n",
    "    hour_final=hour_initial\n",
    "    \n",
    "minute_final=time_min-(60.0-minute_initial)\n",
    "\n",
    "second_final=60.0*(minute_final-int(minute_final))\n",
    "\n",
    "print 'RETURN TIME:', int(hour_final),':', int(minute_final),':', int(second_final)\n"
   ]
  },
  {
   "cell_type": "code",
   "execution_count": null,
   "metadata": {
    "collapsed": true
   },
   "outputs": [],
   "source": []
  }
 ],
 "metadata": {
  "kernelspec": {
   "display_name": "Python 2",
   "language": "python",
   "name": "python2"
  },
  "language_info": {
   "codemirror_mode": {
    "name": "ipython",
    "version": 2
   },
   "file_extension": ".py",
   "mimetype": "text/x-python",
   "name": "python",
   "nbconvert_exporter": "python",
   "pygments_lexer": "ipython2",
   "version": "2.7.10"
  }
 },
 "nbformat": 4,
 "nbformat_minor": 0
}
