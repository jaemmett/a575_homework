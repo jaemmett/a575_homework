{
 "cells": [
  {
   "cell_type": "markdown",
   "metadata": {},
   "source": [
    "4.1, 4.2 Examples - Draw a right angle"
   ]
  },
  {
   "cell_type": "code",
   "execution_count": 8,
   "metadata": {
    "collapsed": false,
    "scrolled": true
   },
   "outputs": [
    {
     "name": "stdout",
     "output_type": "stream",
     "text": [
      "<swampy.TurtleWorld.Turtle object at 0x7f110d68c610>\n"
     ]
    }
   ],
   "source": [
    "from swampy.TurtleWorld import *\n",
    "\n",
    "world = TurtleWorld()\n",
    "bob = Turtle()\n",
    "print bob\n",
    "\n",
    "fd(bob, 100)\n",
    "lt(bob)\n",
    "fd(bob, 100)\n",
    "\n",
    "wait_for_user()"
   ]
  },
  {
   "cell_type": "markdown",
   "metadata": {},
   "source": [
    "For-statement example"
   ]
  },
  {
   "cell_type": "code",
   "execution_count": 4,
   "metadata": {
    "collapsed": false
   },
   "outputs": [
    {
     "name": "stdout",
     "output_type": "stream",
     "text": [
      "Hello!\n",
      "Hello!\n",
      "Hello!\n",
      "Hello!\n"
     ]
    }
   ],
   "source": [
    "for i in range(4):\n",
    "    print 'Hello!'"
   ]
  },
  {
   "cell_type": "markdown",
   "metadata": {},
   "source": [
    "Use a For-statement to draw a square"
   ]
  },
  {
   "cell_type": "code",
   "execution_count": 9,
   "metadata": {
    "collapsed": false
   },
   "outputs": [
    {
     "name": "stdout",
     "output_type": "stream",
     "text": [
      "<swampy.TurtleWorld.Turtle object at 0x7f110d68ca10>\n"
     ]
    }
   ],
   "source": [
    "from swampy.TurtleWorld import *\n",
    "\n",
    "world = TurtleWorld()\n",
    "bob = Turtle()\n",
    "print bob\n",
    "\n",
    "for i in range(4):\n",
    "    fd(bob, 100)\n",
    "    lt(bob)"
   ]
  },
  {
   "cell_type": "markdown",
   "metadata": {},
   "source": [
    "4.3 Exercises"
   ]
  },
  {
   "cell_type": "markdown",
   "metadata": {},
   "source": [
    "Write a function called 'square' that takes a parameter named 't', which is a turtle. It should use the turtle to draw a square. Write a function call that passes 'bob' as an argument to 'square', and then run the program again. "
   ]
  },
  {
   "cell_type": "code",
   "execution_count": 15,
   "metadata": {
    "collapsed": false
   },
   "outputs": [
    {
     "name": "stdout",
     "output_type": "stream",
     "text": [
      "<swampy.TurtleWorld.Turtle object at 0x7f110d624210>\n"
     ]
    }
   ],
   "source": [
    "from swampy.TurtleWorld import *\n",
    "\n",
    "def square( t ):\n",
    "    \n",
    "    world = TurtleWorld()\n",
    "    t = Turtle()\n",
    "    print t\n",
    "\n",
    "    for i in range(4):\n",
    "        fd(t, 100)\n",
    "        lt(t)\n",
    "        \n",
    "    return\n",
    "\n",
    "square( bob )"
   ]
  },
  {
   "cell_type": "markdown",
   "metadata": {},
   "source": [
    "Add another parameter, named 'length', to 'square'. Modify the body so length of the sides is 'length', and then modify the function call to provide a second argument. Run the program again. Test your program with a range of values for 'length'."
   ]
  },
  {
   "cell_type": "code",
   "execution_count": 17,
   "metadata": {
    "collapsed": false
   },
   "outputs": [
    {
     "name": "stdout",
     "output_type": "stream",
     "text": [
      "<swampy.TurtleWorld.Turtle object at 0x7f110d624d10>\n"
     ]
    }
   ],
   "source": [
    "from swampy.TurtleWorld import *\n",
    "\n",
    "def square( t, length ):\n",
    "    \n",
    "    world = TurtleWorld()\n",
    "    t = Turtle()\n",
    "    print t\n",
    "\n",
    "    for i in range(4):\n",
    "        fd(t, length)\n",
    "        lt(t)\n",
    "        \n",
    "    return\n",
    "\n",
    "square( bob, 25 )"
   ]
  },
  {
   "cell_type": "markdown",
   "metadata": {},
   "source": [
    "The functions lt and rt make 90-degree turns by default, but you can provide a second argument that specifies the number of degrees. For example, lt(bob,45) turns bob 45 degrees to the left. Make a copy of square and change the name to polygon. Add another parameter named n and modify the body so it draws an n-sided regular polygon. Hint: The exterior angles of an n-sided regular polygon are 360/n degrees."
   ]
  },
  {
   "cell_type": "code",
   "execution_count": 21,
   "metadata": {
    "collapsed": false
   },
   "outputs": [
    {
     "name": "stdout",
     "output_type": "stream",
     "text": [
      "<swampy.TurtleWorld.Turtle object at 0x7f110c0e3190>\n"
     ]
    }
   ],
   "source": [
    "from swampy.TurtleWorld import *\n",
    "\n",
    "def polygon( t, length, n ):\n",
    "    \n",
    "    world = TurtleWorld()\n",
    "    t = Turtle()\n",
    "    print t\n",
    "\n",
    "    for i in range(n):\n",
    "        fd(t, length)\n",
    "        lt(t, 360/n)\n",
    "        \n",
    "    return\n",
    "\n",
    "polygon( bob, 25, 7 )"
   ]
  },
  {
   "cell_type": "markdown",
   "metadata": {},
   "source": [
    "Write a function called circle that takes a turtle, t, and radius, r, as parameters and that draws an approximate circle by invoking polygon with an appropriate length and number of sides. Test your function with a range of values of r. Hint: figure out the circumference of the circle and make sure that length * n = circumference."
   ]
  },
  {
   "cell_type": "code",
   "execution_count": 34,
   "metadata": {
    "collapsed": false
   },
   "outputs": [
    {
     "name": "stdout",
     "output_type": "stream",
     "text": [
      "<swampy.TurtleWorld.Turtle object at 0x7f110c0bbb10>\n"
     ]
    }
   ],
   "source": [
    "from swampy.TurtleWorld import *\n",
    "import math\n",
    "\n",
    "bob.delay=0.001\n",
    "\n",
    "def polygon( t, length, n ):\n",
    "    \n",
    "    world = TurtleWorld()\n",
    "    t = Turtle()\n",
    "    print t\n",
    "\n",
    "    for i in range(n):\n",
    "        fd(t, length)\n",
    "        lt(t, 360/n)\n",
    "        \n",
    "    return\n",
    "\n",
    "def circle( t, r ):\n",
    "    \n",
    "    circumference=2*(math.pi)*r\n",
    "    length=2\n",
    "    nround=int(circumference/length)\n",
    "\n",
    "    polygon( t, length, nround )\n",
    "        \n",
    "    return\n",
    "\n",
    "circle( bob, 30)"
   ]
  },
  {
   "cell_type": "markdown",
   "metadata": {},
   "source": [
    "Make a more general version of circle called arc that takes an additional parameter angle, which determines what fraction of a circle to draw. angle is in units of degrees, so when angle=360, arc should draw a complete circle."
   ]
  },
  {
   "cell_type": "code",
   "execution_count": 66,
   "metadata": {
    "collapsed": false
   },
   "outputs": [
    {
     "name": "stdout",
     "output_type": "stream",
     "text": [
      "37\n",
      "<swampy.TurtleWorld.Turtle object at 0x7f10f7a26390>\n"
     ]
    }
   ],
   "source": [
    "from swampy.TurtleWorld import *\n",
    "import math\n",
    "\n",
    "bob.delay=0.001\n",
    "\n",
    "def polygon( t, length, n, angle ):\n",
    "    \n",
    "    world = TurtleWorld()\n",
    "    t = Turtle()\n",
    "    print t\n",
    "\n",
    "    for i in range(n):\n",
    "        fd(t, length)\n",
    "        lt(t, angle/n)\n",
    "        \n",
    "    return\n",
    "\n",
    "def circle( t, r, angle ):\n",
    "    \n",
    "    circumference=2*(math.pi)*r\n",
    "    n=100\n",
    "    length=circumference/n\n",
    "    nround=int((angle/360.0)*(circumference/length))\n",
    "    \n",
    "    print nround\n",
    "\n",
    "    polygon( t, length, nround, angle )\n",
    "        \n",
    "    return\n",
    "\n",
    "circle( bob, 30, 135)"
   ]
  },
  {
   "cell_type": "markdown",
   "metadata": {},
   "source": [
    "Refactoring means eliminating redundancies and program-specific routines - rearranging a program so that it uses reusable functions. These functions can be applied to any program with valid input. "
   ]
  },
  {
   "cell_type": "code",
   "execution_count": null,
   "metadata": {
    "collapsed": true
   },
   "outputs": [],
   "source": []
  }
 ],
 "metadata": {
  "kernelspec": {
   "display_name": "Python 2",
   "language": "python",
   "name": "python2"
  },
  "language_info": {
   "codemirror_mode": {
    "name": "ipython",
    "version": 2
   },
   "file_extension": ".py",
   "mimetype": "text/x-python",
   "name": "python",
   "nbconvert_exporter": "python",
   "pygments_lexer": "ipython2",
   "version": "2.7.10"
  }
 },
 "nbformat": 4,
 "nbformat_minor": 0
}
