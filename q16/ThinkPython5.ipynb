{
 "cells": [
  {
   "cell_type": "markdown",
   "metadata": {},
   "source": [
    "5.14 Exercises"
   ]
  },
  {
   "cell_type": "markdown",
   "metadata": {},
   "source": [
    "Exercise 3: Fermat's Last Theorem says that there are no positive integers a,b, and c such that a^n+b^n=c^n for any values of n greater than 2. "
   ]
  },
  {
   "cell_type": "markdown",
   "metadata": {},
   "source": [
    "1. Write a function named check_fermat that takes four parameters - a,b,c, and n - and that checks to see if Fermat's theorem holds. If n is greater than 2 and it turns out to be true at a^n+b^n=c^n the program should print, \"Holy smokes, Fermat was wrong!\" Otherwise the program should print, \"No, that doesn't work.\" "
   ]
  },
  {
   "cell_type": "code",
   "execution_count": 16,
   "metadata": {
    "collapsed": false
   },
   "outputs": [
    {
     "name": "stdout",
     "output_type": "stream",
     "text": [
      "No, that doesn't work\n"
     ]
    }
   ],
   "source": [
    "def check_fermat(a,b,c,n):\n",
    "    if a**n+b**n == c**n and n >=2:\n",
    "        print \"Holy smokes, Fermat was wrong!\"\n",
    "    elif a**n+b**n != c**n:\n",
    "        print \"No, that doesn't work\"\n",
    "        \n",
    "check_fermat(1,2,3,3)\n",
    "    "
   ]
  },
  {
   "cell_type": "markdown",
   "metadata": {},
   "source": [
    "2. Write a function that prompts the user to input values for a,b,c and n, converts them to integers, and uses check_fermat to check whether they violate Fermat's theorem."
   ]
  },
  {
   "cell_type": "code",
   "execution_count": 1,
   "metadata": {
    "collapsed": false
   },
   "outputs": [
    {
     "name": "stdout",
     "output_type": "stream",
     "text": [
      "a=\n",
      "1\n",
      "b=\n",
      "2\n",
      "c=\n",
      "3\n",
      "n=\n",
      "4\n",
      "No, that doesn't work\n"
     ]
    }
   ],
   "source": [
    "def check_fermat(a,b,c,n):\n",
    "    if a**n+b**n == c**n and n >=2:\n",
    "        print \"Holy smokes, Fermat was wrong!\"\n",
    "    elif a**n+b**n != c**n:\n",
    "        print \"No, that doesn't work\"\n",
    "\n",
    "a=raw_input('a=\\n')\n",
    "\n",
    "b=raw_input('b=\\n')\n",
    "\n",
    "c=raw_input('c=\\n')\n",
    "\n",
    "n=raw_input('n=\\n')\n",
    "\n",
    "a=int(a)\n",
    "\n",
    "b=int(b)\n",
    "\n",
    "c=int(c)\n",
    "\n",
    "n=int(n)\n",
    "\n",
    "check_fermat(a,b,c,n)"
   ]
  },
  {
   "cell_type": "markdown",
   "metadata": {},
   "source": [
    "Exercise 4:1: Write a function named is_triangle that takes three integers as arguments, and that prints either \"Yes\" or \"No,\" depending on whether you can or cannot form a triangle from sticks with the given lengths. "
   ]
  },
  {
   "cell_type": "code",
   "execution_count": 6,
   "metadata": {
    "collapsed": false
   },
   "outputs": [
    {
     "name": "stdout",
     "output_type": "stream",
     "text": [
      "No\n",
      "Yes\n"
     ]
    }
   ],
   "source": [
    "def is_triangle(a,b,c):\n",
    "    if a > b+c or b > a+c or c > a+b:\n",
    "        print \"No\"\n",
    "    else:\n",
    "        print \"Yes\"\n",
    "        \n",
    "is_triangle(7,3,3)\n",
    "is_triangle(1,2,3)"
   ]
  },
  {
   "cell_type": "markdown",
   "metadata": {},
   "source": [
    "Exercise 4:2: Write a function that prompts the user to input three stick lengths, converts them to integers, and uses is_triangle to check whether sticks with the given lengths can form a triangle."
   ]
  },
  {
   "cell_type": "code",
   "execution_count": 7,
   "metadata": {
    "collapsed": false
   },
   "outputs": [
    {
     "name": "stdout",
     "output_type": "stream",
     "text": [
      "a=\n",
      "7\n",
      "b=\n",
      "3\n",
      "c=\n",
      "3\n",
      "No\n"
     ]
    }
   ],
   "source": [
    "def is_triangle(a,b,c):\n",
    "    if a > b+c or b > a+c or c > a+b:\n",
    "        print \"No\"\n",
    "    else:\n",
    "        print \"Yes\"\n",
    "        \n",
    "a=raw_input('a=\\n')\n",
    "\n",
    "b=raw_input('b=\\n')\n",
    "\n",
    "c=raw_input('c=\\n')\n",
    "       \n",
    "is_triangle(int(a),int(b),int(c))"
   ]
  },
  {
   "cell_type": "markdown",
   "metadata": {},
   "source": [
    "Exercise 5: Read the following function and see if you can figure out what it does. Then run it (see the examples in Chapter 4). It appears to draw a fractal."
   ]
  },
  {
   "cell_type": "code",
   "execution_count": null,
   "metadata": {
    "collapsed": false
   },
   "outputs": [],
   "source": [
    "from swampy.TurtleWorld import *\n",
    "world = TurtleWorld()\n",
    "\n",
    "def draw(t, length, n):\n",
    "    if n == 0:\n",
    "        return\n",
    "    angle = 50\n",
    "    fd(t, length*n)\n",
    "    lt(t, angle)\n",
    "    draw(t, length, n-1)\n",
    "    rt(t, 2*angle)\n",
    "    draw(t, length, n-1)\n",
    "    lt(t, angle)\n",
    "    bk(t, length*n)\n",
    "    \n",
    "draw(Turtle(),10,10)"
   ]
  },
  {
   "cell_type": "markdown",
   "metadata": {
    "collapsed": true
   },
   "source": [
    "Exercise 6:1: Write a function called koch that takes a turtle and a length as parameters, and that uses the turtle to draw a Koch curve with the given length."
   ]
  },
  {
   "cell_type": "code",
   "execution_count": 3,
   "metadata": {
    "collapsed": false
   },
   "outputs": [],
   "source": [
    "from swampy.TurtleWorld import *\n",
    "world = TurtleWorld()\n",
    "Turtle().delay=0.001\n",
    "\n",
    "def koch(t, n):\n",
    "    if n < 3:\n",
    "        fd(t, n)\n",
    "        return\n",
    "    m = n/3.0\n",
    "    koch(t, m)\n",
    "    lt(t, 60)\n",
    "    koch(t, m)\n",
    "    rt(t, 120)\n",
    "    koch(t, m)\n",
    "    lt(t, 60)\n",
    "    koch(t, m)\n",
    "    \n",
    "koch(Turtle(),128)"
   ]
  },
  {
   "cell_type": "markdown",
   "metadata": {
    "collapsed": true
   },
   "source": [
    "6:2: Write a function called snowflake that draws three Koch curves to make the outline of a snowflake."
   ]
  },
  {
   "cell_type": "code",
   "execution_count": 8,
   "metadata": {
    "collapsed": true
   },
   "outputs": [],
   "source": [
    "from swampy.TurtleWorld import *\n",
    "world = TurtleWorld()\n",
    "Turtle().delay=0.001\n",
    "\n",
    "def koch(t, n):\n",
    "    if n < 3:\n",
    "        fd(t, n)\n",
    "        return\n",
    "    m = n/3.0\n",
    "    koch(t, m)\n",
    "    lt(t, 60)\n",
    "    koch(t, m)\n",
    "    rt(t, 120)\n",
    "    koch(t, m)\n",
    "    lt(t, 60)\n",
    "    koch(t, m)\n",
    "    \n",
    "def snowflake(t,n):\n",
    "    for i in range(3):\n",
    "        koch(t,n)\n",
    "        rt(t,120)\n",
    "    \n",
    "snowflake(Turtle(),180)"
   ]
  },
  {
   "cell_type": "markdown",
   "metadata": {},
   "source": [
    "6:3: The Koch curve can be generalized in several ways. See ... for examples and implement your favorite. Below, a Cesaro fractal (85, 170 degree variant)."
   ]
  },
  {
   "cell_type": "code",
   "execution_count": 28,
   "metadata": {
    "collapsed": false
   },
   "outputs": [],
   "source": [
    "from swampy.TurtleWorld import *\n",
    "world = TurtleWorld()\n",
    "Turtle().delay=0.001\n",
    "\n",
    "def koch(t, n):\n",
    "    if n < 3:\n",
    "        fd(t, n)\n",
    "        return\n",
    "    m = n/3.0\n",
    "    koch(t, m)\n",
    "    lt(t, 85)\n",
    "    koch(t, m)\n",
    "    rt(t, 170)\n",
    "    koch(t, m)\n",
    "    lt(t, 85)\n",
    "    koch(t, m)\n",
    "    \n",
    "def snowflake(t,n):\n",
    "    for i in range(6):\n",
    "        koch(t,n)\n",
    "        rt(t,60)\n",
    "    \n",
    "snowflake(Turtle(),500)"
   ]
  },
  {
   "cell_type": "code",
   "execution_count": null,
   "metadata": {
    "collapsed": true
   },
   "outputs": [],
   "source": []
  }
 ],
 "metadata": {
  "kernelspec": {
   "display_name": "Python 2",
   "language": "python",
   "name": "python2"
  },
  "language_info": {
   "codemirror_mode": {
    "name": "ipython",
    "version": 2
   },
   "file_extension": ".py",
   "mimetype": "text/x-python",
   "name": "python",
   "nbconvert_exporter": "python",
   "pygments_lexer": "ipython2",
   "version": "2.7.10"
  }
 },
 "nbformat": 4,
 "nbformat_minor": 0
}
