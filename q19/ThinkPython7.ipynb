{
 "cells": [
  {
   "cell_type": "markdown",
   "metadata": {},
   "source": [
    "Think Python Chapter 7 Exercises"
   ]
  },
  {
   "cell_type": "markdown",
   "metadata": {},
   "source": [
    "Exercise 1: Rewrite the function print_n from Section 5.8 using iteration instead of recursion."
   ]
  },
  {
   "cell_type": "code",
   "execution_count": 11,
   "metadata": {
    "collapsed": false
   },
   "outputs": [
    {
     "name": "stdout",
     "output_type": "stream",
     "text": [
      "test 2\n",
      "test 1\n",
      "test 0\n"
     ]
    }
   ],
   "source": [
    "def print_n(s,n):\n",
    "    while n >= 0:\n",
    "            print s,n\n",
    "            n=n-1\n",
    "            \n",
    "string='test'\n",
    "n=3\n",
    "\n",
    "print_n(string,n-1)"
   ]
  },
  {
   "cell_type": "markdown",
   "metadata": {},
   "source": [
    "Exercise 2: Encapsulate this loop in a function called square_root that takes a as a parameter, chooses a reasonable value of x, and returns an estimate of the square root of a."
   ]
  },
  {
   "cell_type": "code",
   "execution_count": 13,
   "metadata": {
    "collapsed": false
   },
   "outputs": [
    {
     "name": "stdout",
     "output_type": "stream",
     "text": [
      "2\n",
      "7\n",
      "5\n"
     ]
    }
   ],
   "source": [
    "def square_root(a,x):\n",
    "    while True:\n",
    "        print x\n",
    "        y=(x+a/x)/2\n",
    "        if y==x:\n",
    "            break\n",
    "        x=y\n",
    "        \n",
    "square_root(25,2)\n",
    "    "
   ]
  },
  {
   "cell_type": "markdown",
   "metadata": {},
   "source": [
    "Exercise 3: To test the square root algorithm in this chapter, you could compare it with math.sqrt. Write a function named test_square_root that prints a table like this:"
   ]
  },
  {
   "cell_type": "code",
   "execution_count": 44,
   "metadata": {
    "collapsed": false
   },
   "outputs": [
    {
     "name": "stdout",
     "output_type": "stream",
     "text": [
      " 1.0\n",
      "1.0 None 1.0\n",
      "1.41421356237\n",
      "2.0 None 1.41421356237\n",
      "1.73205080757\n",
      "3.0 None 1.73205080757\n",
      "2.0\n",
      "4.0 None 2.0\n",
      "2.2360679775\n",
      "5.0 None 2.2360679775\n",
      "2.44948974278\n",
      "6.0 None 2.44948974278\n",
      "2.64575131106\n",
      "7.0 None 2.64575131106\n",
      "2.82842712475\n",
      "8.0 None 2.82842712475\n",
      "3\n",
      "9.0 None 3.0\n"
     ]
    }
   ],
   "source": [
    "import math\n",
    "\n",
    "def square_root(a,x):\n",
    "    while True:\n",
    "        y=(x+a/x)/2\n",
    "        if y==x:\n",
    "            print x\n",
    "            break\n",
    "        x=y\n",
    "        \n",
    "for a in range(1, 10):   \n",
    "    a=float(a)\n",
    "    root_a=square_root(a,3)\n",
    "    print a,root_a,math.sqrt(a)"
   ]
  },
  {
   "cell_type": "code",
   "execution_count": null,
   "metadata": {
    "collapsed": true
   },
   "outputs": [],
   "source": []
  }
 ],
 "metadata": {
  "kernelspec": {
   "display_name": "Python 2",
   "language": "python",
   "name": "python2"
  },
  "language_info": {
   "codemirror_mode": {
    "name": "ipython",
    "version": 2
   },
   "file_extension": ".py",
   "mimetype": "text/x-python",
   "name": "python",
   "nbconvert_exporter": "python",
   "pygments_lexer": "ipython2",
   "version": "2.7.10"
  }
 },
 "nbformat": 4,
 "nbformat_minor": 0
}
